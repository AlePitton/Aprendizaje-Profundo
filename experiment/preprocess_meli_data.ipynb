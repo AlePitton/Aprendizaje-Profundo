{
 "cells": [
  {
   "cell_type": "code",
   "execution_count": null,
   "id": "ordinary-heaven",
   "metadata": {},
   "outputs": [],
   "source": [
    "import nltk\n",
    "import pandas as pd\n",
    "\n",
    "from gensim import corpora\n",
    "from gensim.parsing import preprocessing\n",
    "from nltk.corpus import stopwords\n",
    "from nltk.tokenize import word_tokenize\n",
    "from tqdm.notebook import tqdm\n",
    "\n",
    "tqdm.pandas()"
   ]
  },
  {
   "cell_type": "code",
   "execution_count": null,
   "id": "casual-manitoba",
   "metadata": {},
   "outputs": [],
   "source": [
    "nltk.download(\"stopwords\")"
   ]
  },
  {
   "cell_type": "code",
   "execution_count": null,
   "id": "flying-silence",
   "metadata": {},
   "outputs": [],
   "source": [
    "stopwords = {\n",
    "    \"spanish\": stopwords.words(\"spanish\"),\n",
    "    \"portuguese\": stopwords.words(\"portuguese\")\n",
    "}"
   ]
  },
  {
   "cell_type": "code",
   "execution_count": null,
   "id": "champion-service",
   "metadata": {},
   "outputs": [],
   "source": [
    "data = []\n",
    "\n",
    "for language in tqdm([\"spanish\", \"portuguese\"]):\n",
    "    for split in tqdm([\"train\", \"test\", \"validation\"]):\n",
    "        df = pd.read_csv(f\"./data/meli-challenge-2019/{language}.{split}.csv.gz\")\n",
    "        df[\"split\"] = split\n",
    "        data.append(df)"
   ]
  },
  {
   "cell_type": "code",
   "execution_count": null,
   "id": "false-deadline",
   "metadata": {},
   "outputs": [],
   "source": [
    "data = pd.concat(data, ignore_index=True)\n",
    "data.head()"
   ]
  },
  {
   "cell_type": "code",
   "execution_count": null,
   "id": "measured-spectacular",
   "metadata": {},
   "outputs": [],
   "source": [
    "def clean_titles(row):\n",
    "    title = preprocessing.strip_tags(row[\"title\"].lower())\n",
    "    title = preprocessing.strip_punctuation(title)\n",
    "    title = preprocessing.strip_numeric(title)\n",
    "    title = word_tokenize(title, language=row[\"language\"])\n",
    "    title = [word for word in title if word not in stopwords[row[\"language\"]]]\n",
    "    title = [word for word in title if len(word) >= 3]\n",
    "    return title\n",
    "\n",
    "data[\"tokenized_title\"] = data.progress_apply(clean_titles, axis=1)"
   ]
  },
  {
   "cell_type": "code",
   "execution_count": null,
   "id": "normal-portal",
   "metadata": {},
   "outputs": [],
   "source": [
    "for language, lang_df in data.groupby([\"language\"]):\n",
    "    dictionary = corpora.Dictionary(lang_df[\"tokenized_title\"].tolist())\n",
    "    dictionary.filter_extremes(no_below=2, no_above=1, keep_n=50000)\n",
    "    dictionary.compactify()\n",
    "    dictionary.patch_with_special_tokens({\n",
    "        \"[PAD]\": 0,\n",
    "        \"[UNK]\": 1\n",
    "    })\n",
    "    data.loc[lang_df.index, \"data\"] = lang_df[\"tokenized_title\"].progress_map(\n",
    "        lambda t: dictionary.doc2idx(\n",
    "            document=t,\n",
    "            unknown_word_index=1\n",
    "        )\n",
    "    )"
   ]
  },
  {
   "cell_type": "code",
   "execution_count": null,
   "id": "peripheral-suite",
   "metadata": {},
   "outputs": [],
   "source": [
    "data.head()"
   ]
  },
  {
   "cell_type": "code",
   "execution_count": null,
   "id": "focused-alpha",
   "metadata": {},
   "outputs": [],
   "source": [
    "label_to_target = {label: index for index, label in enumerate(data[\"category\"].unique())}\n",
    "data[\"target\"] = data[\"category\"].progress_map(lambda l: label_to_target[l])"
   ]
  },
  {
   "cell_type": "code",
   "execution_count": null,
   "id": "listed-sharp",
   "metadata": {},
   "outputs": [],
   "source": [
    "data.head()"
   ]
  },
  {
   "cell_type": "code",
   "execution_count": null,
   "id": "suspected-broad",
   "metadata": {},
   "outputs": [],
   "source": [
    "for (language, split), sub_df in data.groupby([\"language\", \"split\"]):\n",
    "    sub_df.to_json(\n",
    "        f\"./data/meli-challenge-2019/{language}.{split}.jsonl.gz\",\n",
    "        lines=True,\n",
    "        orient=\"records\"\n",
    "    )"
   ]
  }
 ],
 "metadata": {
  "kernelspec": {
   "display_name": "Python 3",
   "language": "python",
   "name": "python3"
  },
  "language_info": {
   "codemirror_mode": {
    "name": "ipython",
    "version": 3
   },
   "file_extension": ".py",
   "mimetype": "text/x-python",
   "name": "python",
   "nbconvert_exporter": "python",
   "pygments_lexer": "ipython3",
   "version": "3.7.10"
  }
 },
 "nbformat": 4,
 "nbformat_minor": 5
}
