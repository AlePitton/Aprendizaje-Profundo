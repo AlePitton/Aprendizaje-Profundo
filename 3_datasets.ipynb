{
 "cells": [
  {
   "cell_type": "markdown",
   "metadata": {
    "slideshow": {
     "slide_type": "slide"
    }
   },
   "source": [
    "# Manejo de Datos en PyTorch"
   ]
  },
  {
   "cell_type": "markdown",
   "metadata": {
    "slideshow": {
     "slide_type": "slide"
    }
   },
   "source": [
    "## Librerías"
   ]
  },
  {
   "cell_type": "code",
   "execution_count": 17,
   "metadata": {
    "slideshow": {
     "slide_type": "-"
    }
   },
   "outputs": [],
   "source": [
    "import csv\n",
    "import functools\n",
    "import gzip\n",
    "import numpy as np\n",
    "import pandas as pd\n",
    "import torch\n",
    "import json\n",
    "import tempfile\n",
    "\n",
    "from gensim.models import KeyedVectors\n",
    "from gensim.parsing import preprocessing\n",
    "from torch.utils.data import Dataset, DataLoader, IterableDataset"
   ]
  },
  {
   "cell_type": "markdown",
   "metadata": {
    "slideshow": {
     "slide_type": "slide"
    }
   },
   "source": [
    "## La clase Dataset\n",
    "\n",
    "La clase abstracta [`torch.utils.data.Dataset`](https://pytorch.org/docs/stable/data.html#torch.utils.data.Dataset) es la clase base para construir un dataset de PyTorch. Cualquier dataset personalizado debe heredar de dicha clase e implementar los siguientes métodos:\n",
    "\n",
    "- `__len__`: Para que `len(dataset)` devuelva el tamaño del conjunto de datos.\n",
    "- `__getitem__`: Para soportar indexado de manera que `dataset[i]` devuelva el elemento `i`. Es común que en ciertos casos se utilice este método para levantar el dato real (e.g. una imagen) mientras que lo que se guarde en el dataset sea sólo una referencia a dicho dato (e.g. un path a la imagen). De esta manera se evita cargar muchas imágenes en memoria, haciendo que sea menos demandante a nivel RAM."
   ]
  },
  {
   "cell_type": "code",
   "execution_count": 2,
   "metadata": {
    "slideshow": {
     "slide_type": "subslide"
    }
   },
   "outputs": [
    {
     "name": "stdout",
     "output_type": "stream",
     "text": [
      "Dataset loaded with 50000 elements\n",
      "Sample element:\n",
      "{'data': \"One of the other reviewers has mentioned that after watching just 1 Oz episode you'll be hooked. They are right, as this is exactly what happened with me.<br /><br />The first thing that struck me about Oz was its brutality and unflinching scenes of violence, which set in right from the word GO. Trust me, this is not a show for the faint hearted or timid. This show pulls no punches with regards to drugs, sex or violence. Its is hardcore, in the classic use of the word.<br /><br />It is called OZ as that is the nickname given to the Oswald Maximum Security State Penitentary. It focuses mainly on Emerald City, an experimental section of the prison where all the cells have glass fronts and face inwards, so privacy is not high on the agenda. Em City is home to many..Aryans, Muslims, gangstas, Latinos, Christians, Italians, Irish and more....so scuffles, death stares, dodgy dealings and shady agreements are never far away.<br /><br />I would say the main appeal of the show is due to the fact that it goes where other shows wouldn't dare. Forget pretty pictures painted for mainstream audiences, forget charm, forget romance...OZ doesn't mess around. The first episode I ever saw struck me as so nasty it was surreal, I couldn't say I was ready for it, but as I watched more, I developed a taste for Oz, and got accustomed to the high levels of graphic violence. Not just violence, but injustice (crooked guards who'll be sold out for a nickel, inmates who'll kill on order and get away with it, well mannered, middle class inmates being turned into prison bitches due to their lack of street skills or prison experience) Watching Oz, you may become comfortable with what is uncomfortable viewing....thats if you can get in touch with your darker side.\", 'target': 'positive'}\n"
     ]
    }
   ],
   "source": [
    "class IMDBReviewsDataset(Dataset):\n",
    "    def __init__(self, path, transform=None):\n",
    "        self.dataset = pd.read_csv(path)\n",
    "        self.transform = transform\n",
    "    \n",
    "    def __len__(self):\n",
    "        return self.dataset.shape[0]\n",
    "\n",
    "    def __getitem__(self, item):\n",
    "        if torch.is_tensor(item):\n",
    "            item = item.tolist()  # Deal with list of items instead of tensor\n",
    "        \n",
    "        item = {\n",
    "            \"data\": self.dataset.iloc[item][\"review\"],\n",
    "            \"target\": self.dataset.iloc[item][\"sentiment\"]\n",
    "        }\n",
    "\n",
    "        if self.transform:\n",
    "            item = self.transform(item)\n",
    "        \n",
    "        return item\n",
    "\n",
    "dataset = IMDBReviewsDataset(\"./data/imdb_reviews.csv.gz\")\n",
    "print(f\"Dataset loaded with {len(dataset)} elements\")\n",
    "print(f\"Sample element:\\n{dataset[0]}\")"
   ]
  },
  {
   "cell_type": "markdown",
   "metadata": {
    "slideshow": {
     "slide_type": "slide"
    }
   },
   "source": [
    "## Transformaciones\n",
    "\n",
    "El ejemplo anterior nos muestra el uso básico, pero claramente no podemos pasarle eso a una red neuronal, no puede manejar texto. Es para eso que tenemos que hacer algún tipo de transformación sobre los atributos (en este caso el único atributo es el texto). "
   ]
  },
  {
   "cell_type": "markdown",
   "metadata": {
    "slideshow": {
     "slide_type": "subslide"
    }
   },
   "source": [
    "### Normalización\n",
    "\n",
    "En particular, como vemos en el caso anterior, el texto no está normalizado, parte de las transformaciones pueden incluir realizar algún tipo de normalización. Para eso hagamos uso de [`gensim`](https://radimrehurek.com/gensim/index.html), en particular utilizaremos el módulo [`preprocessing`](https://radimrehurek.com/gensim/parsing/preprocessing.html#module-gensim.parsing.preprocessing) que se encargará de hacer varias normalizaciones por defecto"
   ]
  },
  {
   "cell_type": "code",
   "execution_count": 3,
   "metadata": {
    "slideshow": {
     "slide_type": "subslide"
    }
   },
   "outputs": [
    {
     "name": "stdout",
     "output_type": "stream",
     "text": [
      "{'data': ['reviewers', 'mentioned', 'watching', 'episode', 'hooked', 'right', 'exactly', 'happened', 'thing', 'struck', 'brutality', 'unflinching', 'scenes', 'violence', 'set', 'right', 'word', 'trust', 'faint', 'hearted', 'timid', 'pulls', 'punches', 'regards', 'drugs', 'sex', 'violence', 'hardcore', 'classic', 'use', 'word', 'called', 'nickname', 'given', 'oswald', 'maximum', 'security', 'state', 'penitentary', 'focuses', 'mainly', 'emerald', 'city', 'experimental', 'section', 'prison', 'cells', 'glass', 'fronts', 'face', 'inwards', 'privacy', 'high', 'agenda', 'city', 'home', 'aryans', 'muslims', 'gangstas', 'latinos', 'christians', 'italians', 'irish', 'scuffles', 'death', 'stares', 'dodgy', 'dealings', 'shady', 'agreements', 'far', 'away', 'main', 'appeal', 'fact', 'goes', 'shows', 'wouldn', 'dare', 'forget', 'pretty', 'pictures', 'painted', 'mainstream', 'audiences', 'forget', 'charm', 'forget', 'romance', 'mess', 'episode', 'saw', 'struck', 'nasty', 'surreal', 'couldn', 'ready', 'watched', 'developed', 'taste', 'got', 'accustomed', 'high', 'levels', 'graphic', 'violence', 'violence', 'injustice', 'crooked', 'guards', 'sold', 'nickel', 'inmates', 'kill', 'order', 'away', 'mannered', 'middle', 'class', 'inmates', 'turned', 'prison', 'bitches', 'lack', 'street', 'skills', 'prison', 'experience', 'watching', 'comfortable', 'uncomfortable', 'viewing', 'thats', 'touch', 'darker'], 'target': 1}\n"
     ]
    }
   ],
   "source": [
    "class TextPreprocess:\n",
    "    def __init__(self, filters=None):\n",
    "        if filters:\n",
    "            self.filters = filters\n",
    "        else:\n",
    "            self.filters = [\n",
    "                lambda s: s.lower(),\n",
    "                preprocessing.strip_tags,\n",
    "                preprocessing.strip_punctuation,\n",
    "                preprocessing.strip_multiple_whitespaces,\n",
    "                preprocessing.strip_numeric,\n",
    "                preprocessing.remove_stopwords,\n",
    "                preprocessing.strip_short,\n",
    "            ]\n",
    "        \n",
    "    def _preprocess_string(self, string):\n",
    "        return preprocessing.preprocess_string(string, filters=self.filters)\n",
    "\n",
    "    def _encode_target(self, target):\n",
    "        return 1 if target == \"positive\" else 0\n",
    "\n",
    "    def __call__(self, item):\n",
    "        if isinstance(item[\"data\"], str):\n",
    "            data = self._preprocess_string(item[\"data\"])\n",
    "        else:\n",
    "            data = [self._preprocess_string(d) for d in item[\"data\"]]\n",
    "        \n",
    "        if isinstance(item[\"target\"], str):\n",
    "            target = self._encode_target(item[\"target\"])\n",
    "        else:\n",
    "            target = [self._encode_target(t) for t in item[\"target\"]]\n",
    "        \n",
    "        return {\n",
    "            \"data\": data,\n",
    "            \"target\": target\n",
    "        }\n",
    "\n",
    "preprocess = TextPreprocess()\n",
    "print(preprocess(dataset[0]))"
   ]
  },
  {
   "cell_type": "markdown",
   "metadata": {
    "slideshow": {
     "slide_type": "subslide"
    }
   },
   "source": [
    "### Conversión a vectores\n",
    "\n",
    "Podemos continuar convertiendo el texto en una representación por vectores. Si bien hay muchas posibilidades (siendo la bolsa de palabras una de las más utilizadas), en general para Deep Learning se prefieren representaciones utilizando vectores contínuos, obtenidos por algún método del estilo de Word2Vec, Glove o FastText. Para este caso utilizaremos las representaciones de Glove de dimensión 50 que se dejaron para descargar en el [notebook 0](./0_set_up.ipynb)."
   ]
  },
  {
   "cell_type": "code",
   "execution_count": 5,
   "metadata": {
    "slideshow": {
     "slide_type": "subslide"
    }
   },
   "outputs": [
    {
     "data": {
      "text/plain": [
       "{'data': array([[-0.18105   , -0.79229999, -0.097616  , ...,  1.42859995,\n",
       "         -0.032471  ,  0.47235999],\n",
       "        [ 0.69395   ,  0.69261003, -0.21608   , ...,  0.2247    ,\n",
       "         -0.23197   ,  0.0062523 ],\n",
       "        [-0.0049087 ,  0.12611   ,  0.14056   , ..., -0.58464003,\n",
       "         -0.31830999,  0.31564   ],\n",
       "        ...,\n",
       "        [ 0.25435999, -0.44304001, -0.12524   , ...,  0.73352998,\n",
       "          0.026198  ,  0.30408001],\n",
       "        [-0.058468  ,  0.019087  ,  0.089056  , ..., -0.28176001,\n",
       "          0.045137  , -0.18802001],\n",
       "        [ 0.14443   ,  0.39103001, -0.93454999, ..., -0.71325999,\n",
       "         -0.54575998,  0.13952   ]]),\n",
       " 'target': 1}"
      ]
     },
     "execution_count": 5,
     "metadata": {},
     "output_type": "execute_result"
    }
   ],
   "source": [
    "class VectorizeText:\n",
    "    def __init__(self, glove_vectors_path):\n",
    "        self.glove_model = KeyedVectors.load_word2vec_format(glove_vectors_path,\n",
    "                                                             binary=False, no_header=True)\n",
    "        self.unkown_vector = np.random.randn(self.glove_model.vector_size)  # Random vector for unknown words\n",
    "    \n",
    "    def _get_vector(self, word):\n",
    "        if word in self.glove_model:\n",
    "            return self.glove_model[word]\n",
    "        else:\n",
    "            return self.unkown_vector\n",
    "    \n",
    "    def _get_vectors(self, sentence):\n",
    "        return np.vstack([self._get_vector(word) for word in sentence])\n",
    "    \n",
    "    def __call__(self, item):\n",
    "        review = []\n",
    "        if isinstance(item[\"data\"][0], str):\n",
    "            review = self._get_vectors(item[\"data\"])\n",
    "        else:\n",
    "            review = [self._get_vectors(d) for d in item[\"data\"]]\n",
    "\n",
    "        return {\n",
    "            \"data\": review,\n",
    "            \"target\": item[\"target\"]\n",
    "        }\n",
    "\n",
    "vectorizer = VectorizeText(\"./data/glove.6B.50d.txt.gz\")\n",
    "vectorizer(preprocess(dataset[0]))"
   ]
  },
  {
   "cell_type": "markdown",
   "metadata": {
    "slideshow": {
     "slide_type": "subslide"
    }
   },
   "source": [
    "### Combinación de vectores\n",
    "\n",
    "Si bien ahora estamos con una versión de los atributos que podría pasar por una red neuronal, hay un problema, las distintas reviews tienen largo distinto y como el algoritmo se entrena en lotes (*mini-batches*) estas requieren tener todas el mismo largo. Hay varias maneras de lidiar con esto, cada una con sus ventajas y desventajas. Dado que por ahora solo vimos perceptrón multicapa, que espera algo de tamaño fijo, una opción sencilla puede ser la de simplemente promediar los vectores de palabras."
   ]
  },
  {
   "cell_type": "code",
   "execution_count": 6,
   "metadata": {
    "slideshow": {
     "slide_type": "subslide"
    }
   },
   "outputs": [
    {
     "data": {
      "text/plain": [
       "{'data': array([ 0.10920768,  0.0152441 , -0.1070746 , -0.28202113,  0.28231286,\n",
       "         0.0607865 , -0.05840408, -0.05096249, -0.14460429,  0.20120667,\n",
       "        -0.20296218, -0.11786137, -0.14528444, -0.00339705,  0.2720593 ,\n",
       "         0.02072164,  0.02963385, -0.00692017, -0.124135  , -0.26061848,\n",
       "        -0.06165497,  0.30771325,  0.14370682,  0.20214674,  0.12474517,\n",
       "        -1.09261586, -0.35921837,  0.1742825 ,  0.42563727, -0.16268977,\n",
       "         2.04543871,  0.1356153 , -0.038627  , -0.39735188, -0.07564671,\n",
       "         0.10941898, -0.07223698, -0.16656189, -0.20611945, -0.23766232,\n",
       "        -0.11803514,  0.06924455,  0.05824452,  0.26010405,  0.13715907,\n",
       "         0.00354383,  0.01808459, -0.15028533, -0.03066247, -0.0714772 ]),\n",
       " 'target': 1}"
      ]
     },
     "execution_count": 6,
     "metadata": {},
     "output_type": "execute_result"
    }
   ],
   "source": [
    "class WordVectorsAverage:\n",
    "    def __call__(self, item):\n",
    "        if item[\"data\"][0].ndim == 2:\n",
    "            data = np.vstack([np.mean(d, axis=0) for d in item[\"data\"]])\n",
    "        else:\n",
    "            data = np.mean(item[\"data\"], axis=0)\n",
    "        \n",
    "        return {\n",
    "            \"data\": data,\n",
    "            \"target\": item[\"target\"]\n",
    "        }\n",
    "\n",
    "vector_average = WordVectorsAverage()\n",
    "vector_average(vectorizer(preprocess(dataset[0])))"
   ]
  },
  {
   "cell_type": "markdown",
   "metadata": {
    "slideshow": {
     "slide_type": "subslide"
    }
   },
   "source": [
    "### Conversión de vectores a tensores\n",
    "\n",
    "En el paso final, debemos convertir nuestros datos de arrays de `numpy` a tensores de PyTorch."
   ]
  },
  {
   "cell_type": "code",
   "execution_count": 7,
   "metadata": {
    "slideshow": {
     "slide_type": "subslide"
    }
   },
   "outputs": [
    {
     "data": {
      "text/plain": [
       "{'data': tensor([ 0.1092,  0.0152, -0.1071, -0.2820,  0.2823,  0.0608, -0.0584, -0.0510,\n",
       "         -0.1446,  0.2012, -0.2030, -0.1179, -0.1453, -0.0034,  0.2721,  0.0207,\n",
       "          0.0296, -0.0069, -0.1241, -0.2606, -0.0617,  0.3077,  0.1437,  0.2021,\n",
       "          0.1247, -1.0926, -0.3592,  0.1743,  0.4256, -0.1627,  2.0454,  0.1356,\n",
       "         -0.0386, -0.3974, -0.0756,  0.1094, -0.0722, -0.1666, -0.2061, -0.2377,\n",
       "         -0.1180,  0.0692,  0.0582,  0.2601,  0.1372,  0.0035,  0.0181, -0.1503,\n",
       "         -0.0307, -0.0715], dtype=torch.float64),\n",
       " 'target': tensor(1)}"
      ]
     },
     "execution_count": 7,
     "metadata": {},
     "output_type": "execute_result"
    }
   ],
   "source": [
    "class ToTensor:\n",
    "    def __call__(self, item):\n",
    "        \"\"\"\n",
    "        This espects a single array.\n",
    "        \"\"\"\n",
    "        return {\n",
    "            \"data\": torch.from_numpy(item[\"data\"]),\n",
    "            \"target\": torch.tensor(item[\"target\"])\n",
    "        }\n",
    "\n",
    "to_tensor = ToTensor()\n",
    "to_tensor(vector_average(vectorizer(preprocess(dataset[0]))))"
   ]
  },
  {
   "cell_type": "markdown",
   "metadata": {
    "slideshow": {
     "slide_type": "subslide"
    }
   },
   "source": [
    "### Componiendo las transformaciones\n",
    "\n",
    "Para evitar tener que llamar a todas las funciones de transformación que querramos aplicar, para ello hacemos uso del parámetro `transform` que definimos en nuestro `Dataset` y un poco de ayuda de `functools`."
   ]
  },
  {
   "cell_type": "code",
   "execution_count": 8,
   "metadata": {
    "slideshow": {
     "slide_type": "subslide"
    }
   },
   "outputs": [
    {
     "name": "stdout",
     "output_type": "stream",
     "text": [
      "Dataset loaded with 50000 elements\n",
      "Sample element:\n",
      "{'data': tensor([ 0.1092,  0.0152, -0.1071, -0.2820,  0.2823,  0.0608, -0.0584, -0.0510,\n",
      "        -0.1446,  0.2012, -0.2030, -0.1179, -0.1453, -0.0034,  0.2721,  0.0207,\n",
      "         0.0296, -0.0069, -0.1241, -0.2606, -0.0617,  0.3077,  0.1437,  0.2021,\n",
      "         0.1247, -1.0926, -0.3592,  0.1743,  0.4256, -0.1627,  2.0454,  0.1356,\n",
      "        -0.0386, -0.3974, -0.0756,  0.1094, -0.0722, -0.1666, -0.2061, -0.2377,\n",
      "        -0.1180,  0.0692,  0.0582,  0.2601,  0.1372,  0.0035,  0.0181, -0.1503,\n",
      "        -0.0307, -0.0715], dtype=torch.float64), 'target': tensor(1)}\n"
     ]
    }
   ],
   "source": [
    "def compose(*functions):\n",
    "    return functools.reduce(lambda f, g: lambda x: g(f(x)), functions, lambda x: x)\n",
    "\n",
    "dataset = IMDBReviewsDataset(\"./data/imdb_reviews.csv.gz\",\n",
    "                             transform=compose(preprocess, vectorizer, vector_average, to_tensor))\n",
    "print(f\"Dataset loaded with {len(dataset)} elements\")\n",
    "print(f\"Sample element:\\n{dataset[0]}\")"
   ]
  },
  {
   "cell_type": "markdown",
   "metadata": {
    "slideshow": {
     "slide_type": "subslide"
    }
   },
   "source": [
    "### Iterando el dataset\n",
    "\n",
    "Ya tenemos nuestro conjunto de datos con sus respectivas transformaciones. ¿Para qué nos sirve esto? Una opción es simplemente iterar en el conjunto de datos de a un elemento. Esto es sencillo, simplemente se hace a través de un `for`."
   ]
  },
  {
   "cell_type": "code",
   "execution_count": 9,
   "metadata": {
    "slideshow": {
     "slide_type": "subslide"
    }
   },
   "outputs": [
    {
     "name": "stdout",
     "output_type": "stream",
     "text": [
      "tensor([ 0.1092,  0.0152, -0.1071, -0.2820,  0.2823,  0.0608, -0.0584, -0.0510,\n",
      "        -0.1446,  0.2012, -0.2030, -0.1179, -0.1453, -0.0034,  0.2721,  0.0207,\n",
      "         0.0296, -0.0069, -0.1241, -0.2606, -0.0617,  0.3077,  0.1437,  0.2021,\n",
      "         0.1247, -1.0926, -0.3592,  0.1743,  0.4256, -0.1627,  2.0454,  0.1356,\n",
      "        -0.0386, -0.3974, -0.0756,  0.1094, -0.0722, -0.1666, -0.2061, -0.2377,\n",
      "        -0.1180,  0.0692,  0.0582,  0.2601,  0.1372,  0.0035,  0.0181, -0.1503,\n",
      "        -0.0307, -0.0715], dtype=torch.float64)\n",
      "tensor(1)\n",
      "==================================================\n",
      "tensor([ 0.0890,  0.1748, -0.3817, -0.1365,  0.3764,  0.1839, -0.2633, -0.1469,\n",
      "        -0.1334,  0.3825, -0.0662,  0.2222, -0.1418,  0.1494,  0.2704, -0.0477,\n",
      "         0.1079,  0.1082, -0.1205, -0.3886,  0.0806,  0.3587,  0.0260,  0.0627,\n",
      "         0.4123, -0.7971, -0.5830,  0.1019,  0.3950, -0.1518,  2.1207, -0.1356,\n",
      "         0.1156, -0.4135,  0.0262,  0.3190, -0.0536,  0.2520, -0.2277, -0.3254,\n",
      "         0.1563,  0.1237, -0.1276,  0.0428, -0.0289,  0.0723,  0.2416, -0.1207,\n",
      "        -0.1700,  0.1817], dtype=torch.float64)\n",
      "tensor(1)\n",
      "==================================================\n",
      "tensor([ 0.1156,  0.1620, -0.2226, -0.2110,  0.4136,  0.2142, -0.2768, -0.1253,\n",
      "        -0.2487,  0.3100, -0.1870,  0.1175, -0.2071,  0.2026,  0.3963, -0.0145,\n",
      "         0.1064,  0.1892, -0.3575, -0.2874, -0.0762,  0.4070,  0.1601,  0.1652,\n",
      "         0.3301, -1.0604, -0.4467,  0.1917,  0.4583, -0.2003,  1.9967,  0.2179,\n",
      "         0.0460, -0.2379,  0.0279,  0.1072, -0.1289,  0.1671, -0.2856, -0.4432,\n",
      "        -0.0877,  0.1785, -0.0697,  0.0857,  0.1390,  0.0088,  0.0788, -0.3161,\n",
      "        -0.1101,  0.2739])\n",
      "tensor(1)\n",
      "==================================================\n"
     ]
    }
   ],
   "source": [
    "for idx, sample in enumerate(dataset):\n",
    "    print(sample[\"data\"])\n",
    "    print(sample[\"target\"])\n",
    "    print(\"=\" * 50)\n",
    "    \n",
    "    if idx == 2:\n",
    "        break"
   ]
  },
  {
   "cell_type": "markdown",
   "metadata": {
    "slideshow": {
     "slide_type": "slide"
    }
   },
   "source": [
    "## La clase Dataloader\n",
    "\n",
    "El problema con iterar de a un elemento es que estamos limitados al querer entrenar un modelo. Por empezar, los modelos de Deep Learning suelen ser más eficientes si se entrenan utilizando algún tipo de entrenamiento por *mini-batches*. Además, hay otras cosas como mezclar los elementos (*shuffling*) o cargar datos en paralelo vía distintos *multiprocess workers*. La clase [`torch.utils.data.DataLoader`](https://pytorch.org/docs/stable/data.html#torch.utils.data.DataLoader) precisamente se encarga de hacer eso por nosotros:"
   ]
  },
  {
   "cell_type": "code",
   "execution_count": 10,
   "metadata": {
    "slideshow": {
     "slide_type": "subslide"
    }
   },
   "outputs": [
    {
     "name": "stdout",
     "output_type": "stream",
     "text": [
      "0 torch.Size([4, 50]) torch.Size([4])\n",
      "1 torch.Size([4, 50]) torch.Size([4])\n",
      "2 torch.Size([4, 50]) torch.Size([4])\n",
      "tensor([[ 3.4637e-01,  2.0785e-01, -2.9570e-01,  5.4333e-02,  4.0412e-01,\n",
      "          1.9114e-01, -1.4682e-01, -2.3888e-01, -1.7727e-01,  3.4228e-01,\n",
      "         -2.9474e-01,  2.6088e-01, -4.2572e-01,  3.2696e-01,  5.1748e-01,\n",
      "         -9.1188e-02,  2.7123e-01,  2.7787e-01, -3.0447e-01, -1.9255e-01,\n",
      "          6.1705e-02,  2.6281e-01, -2.4151e-02,  2.9278e-01,  4.6881e-01,\n",
      "         -1.1142e+00, -7.1383e-01,  1.3878e-01,  4.5731e-01, -1.6761e-02,\n",
      "          2.2293e+00, -1.9096e-01,  9.3975e-02, -3.6185e-01,  3.9700e-03,\n",
      "          3.1308e-01, -4.8333e-02,  2.4677e-02, -5.0735e-01, -5.9055e-01,\n",
      "          9.7112e-04,  2.2367e-01,  1.2639e-03, -2.2762e-01, -2.5028e-01,\n",
      "          9.0740e-02,  1.9136e-01, -2.8286e-01,  1.2155e-01,  2.7905e-01],\n",
      "        [ 1.0193e-01,  9.7284e-02, -2.0748e-01, -2.1992e-01,  3.3393e-01,\n",
      "          1.7484e-01, -3.6629e-01,  4.2254e-02, -7.9503e-02,  3.5214e-01,\n",
      "         -1.4674e-01,  1.8620e-01, -2.8809e-01,  2.2575e-01,  5.0653e-01,\n",
      "          1.9159e-02,  3.7875e-01,  6.1302e-02, -1.9977e-01, -4.4025e-01,\n",
      "          2.7641e-02,  4.5773e-01,  2.6754e-01,  2.4099e-01,  5.2017e-01,\n",
      "         -9.8109e-01, -3.7324e-01,  5.7851e-02,  3.6437e-01, -1.8664e-01,\n",
      "          2.3000e+00,  3.1227e-01,  6.1224e-02, -3.2573e-01,  9.3564e-02,\n",
      "          2.1184e-03, -9.9625e-02,  2.6661e-01, -1.6959e-01, -4.0739e-01,\n",
      "         -2.5209e-01,  2.2945e-01, -7.8395e-02, -5.1963e-02,  7.9039e-02,\n",
      "         -7.8486e-02,  1.0767e-01, -1.1721e-01, -3.1150e-02,  5.5223e-01],\n",
      "        [ 2.3013e-01, -1.1017e-01, -1.4221e-01, -2.9227e-01,  3.8447e-01,\n",
      "          2.1520e-01, -1.9026e-03, -3.2802e-01, -1.1213e-01,  3.7891e-01,\n",
      "         -1.9851e-01,  3.4104e-01, -1.9342e-01,  1.9076e-01,  4.2593e-01,\n",
      "          1.3551e-01,  3.6819e-01,  6.7096e-02, -5.4814e-02, -4.1237e-01,\n",
      "         -1.7689e-01,  1.1915e-01,  1.4724e-01,  2.9129e-01,  6.4174e-01,\n",
      "         -1.1422e+00, -6.3416e-01,  1.1069e-01,  7.8060e-01,  6.0152e-02,\n",
      "          2.3906e+00,  5.8033e-02,  9.7550e-02, -3.3692e-01, -1.2264e-01,\n",
      "          1.8915e-01, -2.3450e-01, -9.5796e-02, -1.9001e-01, -4.6253e-01,\n",
      "         -1.0949e-01,  1.1101e-01,  2.4022e-01,  3.0724e-01, -5.5114e-02,\n",
      "          6.8691e-02,  3.5310e-01,  1.1057e-01,  3.0186e-01,  2.9624e-01],\n",
      "        [ 3.0651e-01,  2.9003e-01, -1.2487e-01, -2.5129e-01,  5.6158e-01,\n",
      "          3.9251e-01, -2.7005e-01, -1.8019e-02, -1.1355e-01,  2.4433e-01,\n",
      "         -3.4582e-02,  2.4899e-01, -1.0819e-01,  1.7019e-03,  4.7558e-01,\n",
      "          4.7313e-02,  7.3036e-03,  1.6845e-01,  5.4381e-02, -3.1586e-01,\n",
      "         -6.0208e-02,  5.1700e-01,  1.2011e-01,  1.7243e-01,  3.0116e-01,\n",
      "         -1.1224e+00, -5.4331e-01, -2.4241e-01,  3.6745e-01, -1.9586e-01,\n",
      "          2.4568e+00,  4.7697e-01,  1.5317e-02, -3.7893e-01,  3.7495e-02,\n",
      "          8.5491e-02, -2.0694e-01, -8.1949e-02,  3.6163e-02, -4.8447e-01,\n",
      "         -3.2757e-01, -8.2602e-02,  5.4165e-02,  2.9193e-01,  1.7434e-01,\n",
      "         -2.0483e-02, -6.8267e-02, -2.6219e-01, -1.5068e-01,  2.3481e-01]],\n",
      "       dtype=torch.float64)\n",
      "tensor([1, 1, 0, 1])\n"
     ]
    }
   ],
   "source": [
    "dataloader = DataLoader(\n",
    "    dataset,\n",
    "    batch_size=4,\n",
    "    shuffle=True,\n",
    "    num_workers=2\n",
    ")\n",
    "\n",
    "for i_batch, sample_batched in enumerate(dataloader):\n",
    "    print(i_batch, \n",
    "          sample_batched['data'].size(),\n",
    "          sample_batched['target'].size())\n",
    "\n",
    "    if i_batch == 2:\n",
    "        print(sample_batched[\"data\"])\n",
    "        print(sample_batched[\"target\"])\n",
    "        break"
   ]
  },
  {
   "cell_type": "markdown",
   "metadata": {
    "slideshow": {
     "slide_type": "slide"
    }
   },
   "source": [
    "## La clase IterableDataset\n",
    "\n",
    "El método preferido para trabajar con conjuntos de datos en PyTorch es `torch.utils.data.Dataset`. En general, hacer uso inteligente del método `__getitem__`, e.g. usándolo para cargar imágenes a medida que sean necesitadas y no al instanciar el dataset, es la mejor manera de trabajar con un conjunto de datos. En particular, de esta forma es mucho más fácil hacer *shuffling* de los datos y demás. No obstante, no siempre esto es posible, muchas veces el conjunto de datos es demasiado grande para levantarlo en memoria (aunque sólo levantemos referencias). Para esos casos, PyTorch ofrece la clase [`torch.utils.data.IterableDataset`](https://pytorch.org/docs/stable/data.html#torch.utils.data.IterableDataset), en este caso el único método que es requerido implementar es `__iter__`."
   ]
  },
  {
   "cell_type": "code",
   "execution_count": 19,
   "metadata": {
    "slideshow": {
     "slide_type": "subslide"
    }
   },
   "outputs": [
    {
     "name": "stdout",
     "output_type": "stream",
     "text": [
      "Sample batch:\n",
      "{'data': ['Casita Muñecas Barbies Pintadas', 'Neceser Cromado Holográfico ', 'Funda Asiento A Medida D20 Chevrolet', 'Embrague Ford Focus One 1.8 8v Td (90cv) Desde 01-99'], 'target': ['DOLLHOUSES', 'TOILETRY_BAGS', 'CAR_SEAT_COVERS', 'AUTOMOTIVE_CLUTCH_KITS']}\n"
     ]
    }
   ],
   "source": [
    "class MeLiChallengeDataset(IterableDataset):\n",
    "    def __init__(self, path, transform=None):\n",
    "        self.dataset_path = path\n",
    "        self.transform = transform\n",
    "\n",
    "    def __iter__(self):\n",
    "        with gzip.open(self.dataset_path, \"rt\") as fh:\n",
    "            for l in fh:\n",
    "                data = json.loads(l)\n",
    "                item = {\n",
    "                    \"data\": data['title'],\n",
    "                    \"target\": data['category']\n",
    "                }\n",
    "                \n",
    "                if self.transform:\n",
    "                    yield self.transform(item)\n",
    "                else:\n",
    "                    yield item\n",
    "\n",
    "dataset = MeLiChallengeDataset(\"./data/meli-challenge-2019/spanish.train.jsonl.gz\")\n",
    "dataloader = DataLoader(dataset, batch_size=4, shuffle=False, num_workers=0)\n",
    "dataiter = iter(dataloader)\n",
    "print(f\"Sample batch:\\n{dataiter.next()}\")"
   ]
  }
 ],
 "metadata": {
  "celltoolbar": "Slideshow",
  "kernelspec": {
   "display_name": "Python 3 (ipykernel)",
   "language": "python",
   "name": "python3"
  },
  "language_info": {
   "codemirror_mode": {
    "name": "ipython",
    "version": 3
   },
   "file_extension": ".py",
   "mimetype": "text/x-python",
   "name": "python",
   "nbconvert_exporter": "python",
   "pygments_lexer": "ipython3",
   "version": "3.9.5"
  },
  "rise": {
   "scroll": true
  }
 },
 "nbformat": 4,
 "nbformat_minor": 4
}
